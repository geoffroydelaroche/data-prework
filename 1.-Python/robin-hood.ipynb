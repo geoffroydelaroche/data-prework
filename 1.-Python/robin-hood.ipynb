{
 "cells": [
  {
   "cell_type": "markdown",
   "metadata": {},
   "source": [
    "<img src=\"https://bit.ly/2VnXWr2\" width=\"100\" align=\"left\"/>"
   ]
  },
  {
   "cell_type": "markdown",
   "metadata": {},
   "source": [
    "# Robin Hood\n",
    "Robin Hood has entered a competition to win the archery contest in Sherwood. With his bow and arrows, he needs to shoot on a target and try to hit as close as possible to the center.\n",
    "\n",
    "![](images/arrows.jpg)\n",
    "\n",
    "## Context\n",
    "In this challenge, the landing position of arrows shot by archers in the competition will be represented using 2-dimensional coordinates. \n",
    "\n",
    "In the 2-dimensional space, a point can be defined by a pair of values that correspond to the horizontal coordinate (x) and the vertical coordinate (y). For example, in our case, an arrow that hits the center of the archery target will land in position (0, 0) on the coordinate axes. \n",
    "\n",
    "The space can be divided into 4 zones (quadrants): Q1, Q2, Q3, Q4. If a point is in Q1, both its x coordinate and y coordinate are positive. Any point with a null x or y coordinate is considered to not belong to any quadrant. \n",
    "\n",
    "If you want to know more about the cartesian coordinate system, you can check this [link](https://en.wikipedia.org/wiki/Cartesian_coordinate_system). \n",
    "\n",
    "## Tools\n",
    "You don't necessarily need to use all the tools. Maybe you opt to use some of them or completely different ones, they are given to help you shape the exercise. Programming exercises can be solved in many different ways.\n",
    "* Data structures: **lists, sets, tuples**\n",
    "* Conditional statements: **if-elif-else**\n",
    "* Loop: **while/for**\n",
    "* Minimum (optional sorting)\n",
    "\n",
    "## Tasks\n",
    "Robin Hood has hit the following points:"
   ]
  },
  {
   "cell_type": "code",
   "execution_count": 24,
   "metadata": {},
   "outputs": [],
   "source": [
    "points = [(4, 5), (-0, 2), (4, 7), (1, -3), (3, -2), (4, 5), (3, 2), (5, 7), (-5, 7), (2, 2), (-4, 5), (0, -2),\n",
    "          (-4, 7), (-1, 3), (-3, 2), (-4, -5), (-3, 2), (5, 7), (5, 7), (2, 2), (9, 9), (-8, -9)]"
   ]
  },
  {
   "cell_type": "markdown",
   "metadata": {},
   "source": [
    "#### 1. Robin Hood is famous for hitting an arrow with another arrow. Find the coordinates of the points where an arrow hits another arrow."
   ]
  },
  {
   "cell_type": "code",
   "execution_count": 46,
   "metadata": {},
   "outputs": [],
   "source": [
    "double = []\n",
    "\n",
    "for x in points:\n",
    "    if points.count(x) > 1:\n",
    "        double.append(x)\n",
    "        \n",
    "double_hit = set(double)"
   ]
  },
  {
   "cell_type": "code",
   "execution_count": 47,
   "metadata": {},
   "outputs": [
    {
     "data": {
      "text/plain": [
       "{(-3, 2), (2, 2), (4, 5), (5, 7)}"
      ]
     },
     "execution_count": 47,
     "metadata": {},
     "output_type": "execute_result"
    }
   ],
   "source": [
    "double_hit"
   ]
  },
  {
   "cell_type": "markdown",
   "metadata": {},
   "source": [
    "#### 2. Calculate how many arrows have fallen in each quadrant. \n",
    "**Note**: the arrows that fall in the axis (x=0 or y=0) don't belong to any quadrant."
   ]
  },
  {
   "cell_type": "code",
   "execution_count": 60,
   "metadata": {},
   "outputs": [
    {
     "name": "stdout",
     "output_type": "stream",
     "text": [
      "Number of arrow Q1 = 10\n",
      "Number of arrow Q2 = 2\n",
      "Number of arrow Q3 = 2\n",
      "Number of arrow Q4 = 6\n"
     ]
    }
   ],
   "source": [
    "Q1=[]\n",
    "Q2=[]\n",
    "Q3=[]\n",
    "Q4=[]\n",
    "\n",
    "for x in points:\n",
    "    if x[0] > 0 and x[1] > 0:\n",
    "        Q1.append(x)\n",
    "    elif x[0] > 0 and x[1] < 0:\n",
    "        Q2.append(x)\n",
    "    elif x[0] < 0 and x[1] < 0:\n",
    "        Q3.append(x)\n",
    "    elif x[0] < 0 and x[1] > 0:\n",
    "        Q4.append(x)\n",
    "\n",
    "print ('Number of arrow Q1 =', len(Q1))\n",
    "print ('Number of arrow Q2 =', len(Q2))\n",
    "print ('Number of arrow Q3 =', len(Q3))\n",
    "print ('Number of arrow Q4 =', len(Q4))"
   ]
  },
  {
   "cell_type": "markdown",
   "metadata": {},
   "source": [
    "#### 3. Find the point closest to the center. Calculate its distance to the center. \n",
    "Take into account that there might be more than one point at the minimum distance to the center.\n",
    "\n",
    "**Hint**: Use the Euclidean distance. You can find more information about it [here](https://en.wikipedia.org/wiki/Euclidean_distance).  \n",
    "**Hint**: Defining a function that calculates the distance to the center can help."
   ]
  },
  {
   "cell_type": "code",
   "execution_count": 168,
   "metadata": {},
   "outputs": [
    {
     "name": "stdout",
     "output_type": "stream",
     "text": [
      "distance of the closest points = 2.0\n",
      "coordinate of the closest points = [0, 2]\n",
      "coordinate of the closest points = [0, -2]\n"
     ]
    }
   ],
   "source": [
    "list_points= []\n",
    "\n",
    "for a in points:\n",
    "    l=list(a)\n",
    "    list_points.append(l)    \n",
    "\n",
    "import math\n",
    "\n",
    "low_dist=[]\n",
    "\n",
    "def dist(x, y):\n",
    "    z=math.sqrt(x**2 + y**2)\n",
    "    return z\n",
    "\n",
    "distance=[]\n",
    "\n",
    "for b in list_points:\n",
    "    b = (dist(b[0],b[1]))\n",
    "    distance.append(b)\n",
    "print('distance of the closest points =', min (distance))\n",
    "    \n",
    "for d in list_points:\n",
    "    if dist(d[0],d[1]) == min (distance):\n",
    "        print ('coordinate of the closest points =', d)"
   ]
  },
  {
   "cell_type": "markdown",
   "metadata": {},
   "source": [
    "#### 4. If the archery target has a radius of 9, calculate the number of arrows that won't hit the target. \n",
    "**Hint**: Use the function created in step 3. "
   ]
  },
  {
   "cell_type": "code",
   "execution_count": 146,
   "metadata": {},
   "outputs": [
    {
     "name": "stdout",
     "output_type": "stream",
     "text": [
      "total number of arrows that wont hit the target is 2\n"
     ]
    }
   ],
   "source": [
    "target= []\n",
    "\n",
    "for c in list_points:\n",
    "    distance = math.sqrt(c[0]**2 + c[1]**2)\n",
    "    if distance >= 9:\n",
    "        target.append(distance)\n",
    "        \n",
    "print ('total number of arrows that wont hit the target is', len(target))"
   ]
  },
  {
   "cell_type": "code",
   "execution_count": null,
   "metadata": {},
   "outputs": [],
   "source": []
  }
 ],
 "metadata": {
  "kernelspec": {
   "display_name": "Python 3",
   "language": "python",
   "name": "python3"
  },
  "language_info": {
   "codemirror_mode": {
    "name": "ipython",
    "version": 3
   },
   "file_extension": ".py",
   "mimetype": "text/x-python",
   "name": "python",
   "nbconvert_exporter": "python",
   "pygments_lexer": "ipython3",
   "version": "3.8.5"
  }
 },
 "nbformat": 4,
 "nbformat_minor": 2
}
